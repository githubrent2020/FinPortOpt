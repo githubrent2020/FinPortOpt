{
 "cells": [
  {
   "cell_type": "code",
   "execution_count": 325,
   "metadata": {},
   "outputs": [],
   "source": [
    "import yfinance as yf\n",
    "import pandas as pd\n",
    "from numpy import linalg\n",
    "import numpy as np"
   ]
  },
  {
   "cell_type": "code",
   "execution_count": 326,
   "metadata": {},
   "outputs": [],
   "source": [
    "# define the ticker string.\n",
    "tickerSymbol = ['MSFT', 'A', 'V', 'F', 'X', 'AA', 'JPM', 'XOM', 'BAC', 'GE', 'ABB', 'WMT', 'HPQ']\n",
    "\n",
    "ticker = 'ACB'\n",
    "tickerData = yf.Ticker(ticker)\n",
    "tickerData = tickerData.history(period='1d', start='2018-1-1', end='2020-1-25')    \n",
    "tickerData['TickString'] = ticker\n",
    "tickerData\n",
    "\n",
    "for tick in tickerSymbol:\n",
    "    tickerDataRetrieve = yf.Ticker(tick)\n",
    "    tickerDf = tickerDataRetrieve.history(period='1d', start='2019-1-1', end='2020-1-25')    \n",
    "    tickerDf['TickString'] = tick\n",
    "    tickerData = tickerData.append(tickerDf)\n",
    "\n",
    "tickerData = tickerData.reset_index()\n",
    "tickerData = tickerData[['Date', 'Close', 'TickString']]"
   ]
  },
  {
   "cell_type": "code",
   "execution_count": 327,
   "metadata": {},
   "outputs": [],
   "source": [
    "# Convert to Pct_Change\n",
    "tickerData = tickerData.set_index(['Date', 'TickString'])\n",
    "tickerData = tickerData.groupby(level=\"TickString\").pct_change(1)"
   ]
  },
  {
   "cell_type": "code",
   "execution_count": 328,
   "metadata": {},
   "outputs": [],
   "source": [
    "tickerData.columns = ['Pct_Change']\n",
    "tickerData = tickerData.reset_index()"
   ]
  },
  {
   "cell_type": "code",
   "execution_count": 329,
   "metadata": {},
   "outputs": [],
   "source": [
    "# Convert from long to wide format\n",
    "tickerD = pd.pivot_table(tickerData, index=[\"Date\"], columns=['TickString'], values=[\"Pct_Change\"])"
   ]
  },
  {
   "cell_type": "code",
   "execution_count": 330,
   "metadata": {},
   "outputs": [],
   "source": [
    "# Remove any NaNs\n",
    "tickerD = tickerD.dropna(axis=0)\n",
    "tickerD.reset_index(drop=True, inplace=True)"
   ]
  },
  {
   "cell_type": "code",
   "execution_count": 331,
   "metadata": {},
   "outputs": [],
   "source": [
    "# Demean the columns\n",
    "tickerD = tickerD - tickerD.mean()"
   ]
  },
  {
   "cell_type": "code",
   "execution_count": 332,
   "metadata": {},
   "outputs": [
    {
     "data": {
      "text/html": [
       "<div>\n",
       "<style scoped>\n",
       "    .dataframe tbody tr th:only-of-type {\n",
       "        vertical-align: middle;\n",
       "    }\n",
       "\n",
       "    .dataframe tbody tr th {\n",
       "        vertical-align: top;\n",
       "    }\n",
       "\n",
       "    .dataframe thead tr th {\n",
       "        text-align: left;\n",
       "    }\n",
       "</style>\n",
       "<table border=\"1\" class=\"dataframe\">\n",
       "  <thead>\n",
       "    <tr>\n",
       "      <th></th>\n",
       "      <th colspan=\"14\" halign=\"left\">Pct_Change</th>\n",
       "    </tr>\n",
       "    <tr>\n",
       "      <th>TickString</th>\n",
       "      <th>A</th>\n",
       "      <th>AA</th>\n",
       "      <th>ABB</th>\n",
       "      <th>ACB</th>\n",
       "      <th>BAC</th>\n",
       "      <th>F</th>\n",
       "      <th>GE</th>\n",
       "      <th>HPQ</th>\n",
       "      <th>JPM</th>\n",
       "      <th>MSFT</th>\n",
       "      <th>V</th>\n",
       "      <th>WMT</th>\n",
       "      <th>X</th>\n",
       "      <th>XOM</th>\n",
       "    </tr>\n",
       "  </thead>\n",
       "  <tbody>\n",
       "    <tr>\n",
       "      <td>0</td>\n",
       "      <td>-0.038119</td>\n",
       "      <td>0.001634</td>\n",
       "      <td>-0.021109</td>\n",
       "      <td>-0.016539</td>\n",
       "      <td>-0.017076</td>\n",
       "      <td>-0.016299</td>\n",
       "      <td>-0.000583</td>\n",
       "      <td>-0.034284</td>\n",
       "      <td>-0.015488</td>\n",
       "      <td>-0.038799</td>\n",
       "      <td>-0.037713</td>\n",
       "      <td>-0.006059</td>\n",
       "      <td>0.000190</td>\n",
       "      <td>-0.015446</td>\n",
       "    </tr>\n",
       "    <tr>\n",
       "      <td>1</td>\n",
       "      <td>0.033500</td>\n",
       "      <td>0.081664</td>\n",
       "      <td>0.035108</td>\n",
       "      <td>0.018110</td>\n",
       "      <td>0.040055</td>\n",
       "      <td>0.037362</td>\n",
       "      <td>0.018895</td>\n",
       "      <td>0.039103</td>\n",
       "      <td>0.035574</td>\n",
       "      <td>0.044549</td>\n",
       "      <td>0.041308</td>\n",
       "      <td>0.005331</td>\n",
       "      <td>0.102991</td>\n",
       "      <td>0.036737</td>\n",
       "    </tr>\n",
       "    <tr>\n",
       "      <td>2</td>\n",
       "      <td>0.019951</td>\n",
       "      <td>0.004457</td>\n",
       "      <td>-0.004466</td>\n",
       "      <td>0.010208</td>\n",
       "      <td>-0.002106</td>\n",
       "      <td>0.025021</td>\n",
       "      <td>0.060457</td>\n",
       "      <td>0.010123</td>\n",
       "      <td>-0.000681</td>\n",
       "      <td>-0.000666</td>\n",
       "      <td>0.016342</td>\n",
       "      <td>0.010911</td>\n",
       "      <td>0.006829</td>\n",
       "      <td>0.005277</td>\n",
       "    </tr>\n",
       "    <tr>\n",
       "      <td>3</td>\n",
       "      <td>0.013297</td>\n",
       "      <td>-0.004348</td>\n",
       "      <td>0.013046</td>\n",
       "      <td>-0.041181</td>\n",
       "      <td>-0.003323</td>\n",
       "      <td>0.008385</td>\n",
       "      <td>-0.022243</td>\n",
       "      <td>0.012023</td>\n",
       "      <td>-0.003183</td>\n",
       "      <td>0.005331</td>\n",
       "      <td>0.003705</td>\n",
       "      <td>0.006092</td>\n",
       "      <td>0.014256</td>\n",
       "      <td>0.007218</td>\n",
       "    </tr>\n",
       "    <tr>\n",
       "      <td>4</td>\n",
       "      <td>0.019811</td>\n",
       "      <td>0.031722</td>\n",
       "      <td>0.011177</td>\n",
       "      <td>0.086044</td>\n",
       "      <td>0.008457</td>\n",
       "      <td>0.041281</td>\n",
       "      <td>-0.009219</td>\n",
       "      <td>-0.000559</td>\n",
       "      <td>-0.002978</td>\n",
       "      <td>0.012325</td>\n",
       "      <td>0.010097</td>\n",
       "      <td>-0.004120</td>\n",
       "      <td>0.008706</td>\n",
       "      <td>0.005210</td>\n",
       "    </tr>\n",
       "  </tbody>\n",
       "</table>\n",
       "</div>"
      ],
      "text/plain": [
       "           Pct_Change                                                    \\\n",
       "TickString          A        AA       ABB       ACB       BAC         F   \n",
       "0           -0.038119  0.001634 -0.021109 -0.016539 -0.017076 -0.016299   \n",
       "1            0.033500  0.081664  0.035108  0.018110  0.040055  0.037362   \n",
       "2            0.019951  0.004457 -0.004466  0.010208 -0.002106  0.025021   \n",
       "3            0.013297 -0.004348  0.013046 -0.041181 -0.003323  0.008385   \n",
       "4            0.019811  0.031722  0.011177  0.086044  0.008457  0.041281   \n",
       "\n",
       "                                                                        \\\n",
       "TickString        GE       HPQ       JPM      MSFT         V       WMT   \n",
       "0          -0.000583 -0.034284 -0.015488 -0.038799 -0.037713 -0.006059   \n",
       "1           0.018895  0.039103  0.035574  0.044549  0.041308  0.005331   \n",
       "2           0.060457  0.010123 -0.000681 -0.000666  0.016342  0.010911   \n",
       "3          -0.022243  0.012023 -0.003183  0.005331  0.003705  0.006092   \n",
       "4          -0.009219 -0.000559 -0.002978  0.012325  0.010097 -0.004120   \n",
       "\n",
       "                                \n",
       "TickString         X       XOM  \n",
       "0           0.000190 -0.015446  \n",
       "1           0.102991  0.036737  \n",
       "2           0.006829  0.005277  \n",
       "3           0.014256  0.007218  \n",
       "4           0.008706  0.005210  "
      ]
     },
     "execution_count": 332,
     "metadata": {},
     "output_type": "execute_result"
    }
   ],
   "source": [
    "tickerD.head()"
   ]
  },
  {
   "cell_type": "code",
   "execution_count": 333,
   "metadata": {},
   "outputs": [],
   "source": [
    "# Convert to a matrix.\n",
    "matrixD = tickerD.to_numpy()"
   ]
  },
  {
   "cell_type": "code",
   "execution_count": 334,
   "metadata": {},
   "outputs": [],
   "source": [
    "# Calculate the Covariance Matrix.\n",
    "Sigma = (matrixD.transpose() @ matrixD)\n",
    "Sigma = Sigma * (1/len(matrixD))"
   ]
  },
  {
   "cell_type": "code",
   "execution_count": 335,
   "metadata": {},
   "outputs": [],
   "source": [
    "# Calculate the Eigenvalues and Eigenvectors \n",
    "L, Q = linalg.eig(Sigma)"
   ]
  },
  {
   "cell_type": "code",
   "execution_count": 336,
   "metadata": {},
   "outputs": [
    {
     "data": {
      "text/plain": [
       "array([0.37966589, 0.66018475, 0.74639596, 0.80751563, 0.85903163,\n",
       "       0.89430168, 0.92292823, 0.94410825, 0.96065519, 0.96388066,\n",
       "       0.96930749, 0.97824748, 0.98962165, 1.        ])"
      ]
     },
     "execution_count": 336,
     "metadata": {},
     "output_type": "execute_result"
    }
   ],
   "source": [
    "# Percentage of variance explained by eigenvectors.\n",
    "(L / L.sum()).cumsum()"
   ]
  },
  {
   "cell_type": "code",
   "execution_count": 337,
   "metadata": {},
   "outputs": [],
   "source": [
    "independent = np.array([eigenVectorP1, eigenVectorP2]).transpose()\n",
    "dependent = np.array(matrixD.transpose()[2])"
   ]
  },
  {
   "cell_type": "code",
   "execution_count": 340,
   "metadata": {},
   "outputs": [
    {
     "name": "stdout",
     "output_type": "stream",
     "text": [
      "Mean Squared Error using 2 principal components: 0.0308211253704526\n",
      "Mean Squared Error using 5 principal components: 0.025061957247186083\n",
      "Mean Squared Error using 8 principal components: 0.01764812422086413\n"
     ]
    }
   ],
   "source": [
    "from sklearn.linear_model import LinearRegression\n",
    "model = LinearRegression()\n",
    "\n",
    "# print(\"Number of Securities: \" + str(tickerD.shape[1]))\n",
    "# print(\"Number of Days: \" + str(tickerD.shape[0]))\n",
    "\n",
    "# Create the 'Eigenvector Portfolios'\n",
    "eigenVectorP1 = matrixD @ Q[1] # Principal Component 1\n",
    "eigenVectorP2 = matrixD @ Q[2]\n",
    "eigenVectorP3 = matrixD @ Q[3]\n",
    "eigenVectorP4 = matrixD @ Q[4]\n",
    "eigenVectorP5 = matrixD @ Q[5]\n",
    "eigenVectorP6 = matrixD @ Q[6]\n",
    "eigenVectorP7 = matrixD @ Q[7]\n",
    "eigenVectorP8 = matrixD @ Q[8]\n",
    "eigenVectorP9 = matrixD @ Q[9]\n",
    "eigenVectorP10 = matrixD @ Q[10]\n",
    "\n",
    "\n",
    "independent = np.array([eigenVectorP1, eigenVectorP2]).transpose()\n",
    "dependent = np.array(matrixD.transpose()[2])\n",
    "# regressionData = regressionData.to_numpy()\n",
    "\n",
    "# Regression Residuals for Microsoft\n",
    "fittedmodel = model.fit(independent, dependent)\n",
    "dependentNew = dependent.reshape(-1,1)\n",
    "MSE = ((dependent - fittedmodel.predict(independent)) ** 2).sum()\n",
    "print(\"Mean Squared Error using 2 principal components: \" + str(MSE))\n",
    "\n",
    "independent = np.array([eigenVectorP1, eigenVectorP2, eigenVectorP3, eigenVectorP4, eigenVectorP5]).transpose()\n",
    "dependent = np.array(matrixD.transpose()[2])\n",
    "# regressionData = regressionData.to_numpy()\n",
    "\n",
    "# Regression Residuals for Microsoft\n",
    "fittedmodel = model.fit(independent, dependent)\n",
    "dependentNew = dependent.reshape(-1,1)\n",
    "MSE = ((dependent - fittedmodel.predict(independent)) ** 2).sum()\n",
    "print(\"Mean Squared Error using 5 principal components: \" + str(MSE))\n",
    "\n",
    "independent = np.array([eigenVectorP1, eigenVectorP2, eigenVectorP3, eigenVectorP4, eigenVectorP5, eigenVectorP6,\n",
    "                        eigenVectorP7, eigenVectorP8]).transpose()\n",
    "dependent = np.array(matrixD.transpose()[2])\n",
    "# regressionData = regressionData.to_numpy()\n",
    "\n",
    "# Regression Residuals for Microsoft\n",
    "fittedmodel = model.fit(independent, dependent)\n",
    "dependentNew = dependent.reshape(-1,1)\n",
    "MSE = ((dependent - fittedmodel.predict(independent)) ** 2).sum()\n",
    "print(\"Mean Squared Error using 8 principal components: \" + str(MSE))\n"
   ]
  },
  {
   "cell_type": "code",
   "execution_count": 341,
   "metadata": {},
   "outputs": [
    {
     "data": {
      "text/plain": [
       "'C:\\\\Users\\\\AD'"
      ]
     },
     "execution_count": 341,
     "metadata": {},
     "output_type": "execute_result"
    }
   ],
   "source": [
    "pwd"
   ]
  }
 ],
 "metadata": {
  "kernelspec": {
   "display_name": "Python 3",
   "language": "python",
   "name": "python3"
  },
  "language_info": {
   "codemirror_mode": {
    "name": "ipython",
    "version": 3
   },
   "file_extension": ".py",
   "mimetype": "text/x-python",
   "name": "python",
   "nbconvert_exporter": "python",
   "pygments_lexer": "ipython3",
   "version": "3.7.4"
  }
 },
 "nbformat": 4,
 "nbformat_minor": 2
}
